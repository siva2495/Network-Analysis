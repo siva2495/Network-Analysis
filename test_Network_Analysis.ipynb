{
    "cells": [
        {
            "cell_type": "code",
            "execution_count": null,
            "id": "test-add-two-numbers",
            "metadata": {},
            "outputs": [],
            "source": [
                "import unittest\n",
                "from Network_Analysis import add_two_numbers\n",
                "\n",
                "class TestAddTwoNumbers(unittest.TestCase):\n",
                "    def test_add_integers(self):\n",
                "        self.assertEqual(add_two_numbers(1, 2), 3)\n",
                "\n",
                "    def test_add_floats(self):\n",
                "        self.assertAlmostEqual(add_two_numbers(1.5, 2.5), 4.0)\n",
                "\n",
                "    def test_add_integer_and_float(self):\n",
                "        self.assertAlmostEqual(add_two_numbers(1, 2.5), 3.5)\n",
                "\n",
                "    def test_add_negative_numbers(self):\n",
                "        self.assertEqual(add_two_numbers(-1, -2), -3)\n",
                "\n",
                "    def test_add_zero(self):\n",
                "        self.assertEqual(add_two_numbers(0, 0), 0)\n",
                "\n",
                "if __name__ == '__main__':\n",
                "    unittest.main(argv=[''], exit=False)\n"
            ]
        }
    ],
    "metadata": {
        "kernelspec": {
            "display_name": "Python 3",
            "language": "python",
            "name": "python3"
        },
        "language_info": {
            "codemirror_mode": {
                "name": "ipython",
                "version": 3
            },
            "file_extension": ".py",
            "mimetype": "text/x-python",
            "name": "python",
            "nbconvert_exporter": "python",
            "pygments_lexer": "ipython3",
            "version": "3.8.5"
        }
    },
    "nbformat": 4,
    "nbformat_minor": 