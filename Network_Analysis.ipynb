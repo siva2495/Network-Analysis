{
 "cells": [
  {
   "cell_type": "code",
   "execution_count": 1,
   "metadata": {},
   "outputs": [],
   "source": [
    "import numpy as np"
   ]
  },
  {
   "cell_type": "code",
   "execution_count": 2,
   "metadata": {},
   "outputs": [],
   "source": [
    "adjacency_matrix = [\n",
    "    [0, 1, 0, 1, 0, 1, 0, 0, 0, 0],\n",
    "    [1, 0, 1, 1, 1, 0, 0, 0, 0, 0],\n",
    "    [0, 1, 0, 0, 0, 0, 0, 0, 0, 0],\n",
    "    [1, 1, 0, 0, 0, 1, 0, 1, 1, 0],\n",
    "    [0, 1, 0, 0, 0, 0, 0, 0, 1, 1],\n",
    "    [1, 0, 0, 1, 0, 0, 0, 0, 0, 0],\n",
    "    [0, 0, 0, 0, 0, 0, 0, 0, 0, 1],\n",
    "    [0, 0, 0, 1, 0, 0, 0, 0, 0, 0],\n",
    "    [0, 0, 0, 1, 1, 0, 0, 0, 0, 1],\n",
    "    [0, 0, 0, 0, 1, 0, 1, 0, 1, 0]]"
   ]
  },
  {
   "cell_type": "code",
   "execution_count": 3,
   "metadata": {},
   "outputs": [
    {
     "data": {
      "text/plain": [
       "False"
      ]
     },
     "execution_count": 3,
     "metadata": {},
     "output_type": "execute_result"
    }
   ],
   "source": [
    "def has_multiple_edges_and_no_self_loops(matrix):\n",
    "    # Check if there are no self-loops\n",
    "    if not np.all(np.diag(matrix) == 0):\n",
    "        return False\n",
    "    \n",
    "    # Check if there are multiple edges between any two nodes\n",
    "    for i in range(len(matrix)):\n",
    "        for j in range(len(matrix)):\n",
    "            if matrix[i][j] > 1:\n",
    "                return True\n",
    "    \n",
    "    return False\n",
    "\n",
    "# Check the condition for the adjacency matrix\n",
    "has_multiple_edges = has_multiple_edges_and_no_self_loops(adjacency_matrix)\n",
    "has_multiple_edges"
   ]
  },
  {
   "cell_type": "code",
   "execution_count": 4,
   "metadata": {},
   "outputs": [
    {
     "data": {
      "text/plain": [
       "False"
      ]
     },
     "execution_count": 4,
     "metadata": {},
     "output_type": "execute_result"
    }
   ],
   "source": [
    "# Check if there are any self-loops\n",
    "has_self_loops = not np.all(np.diag(adjacency_matrix) == 0)\n",
    "has_self_loops"
   ]
  },
  {
   "cell_type": "code",
   "execution_count": 5,
   "metadata": {},
   "outputs": [
    {
     "name": "stdout",
     "output_type": "stream",
     "text": [
      "The graph does not have self-loops.\n"
     ]
    }
   ],
   "source": [
    "if has_self_loops:\n",
    "    print(\"The graph has self-loops.\")\n",
    "else:\n",
    "    print(\"The graph does not have self-loops.\")"
   ]
  },
  {
   "cell_type": "code",
   "execution_count": 6,
   "metadata": {},
   "outputs": [
    {
     "name": "stdout",
     "output_type": "stream",
     "text": [
      "The graph is a simple graph.\n"
     ]
    }
   ],
   "source": [
    "if not has_multiple_edges_and_no_self_loops(adjacency_matrix):\n",
    "    print(\"The graph is a simple graph.\")\n",
    "else:\n",
    "    print(\"The graph has multiple edges between some nodes or self-loops.\")"
   ]
  },
  {
   "cell_type": "code",
   "execution_count": 7,
   "metadata": {},
   "outputs": [
    {
     "data": {
      "text/plain": [
       "True"
      ]
     },
     "execution_count": 7,
     "metadata": {},
     "output_type": "execute_result"
    }
   ],
   "source": [
    "def is_simple_graph(matrix):\n",
    "    # Check if the matrix is symmetric\n",
    "    for i in range(len(matrix)):\n",
    "        for j in range(len(matrix)):\n",
    "            if matrix[i][j] != matrix[j][i]:\n",
    "                return False\n",
    "    \n",
    "    # Check if the diagonal elements are zero\n",
    "    for i in range(len(matrix)):\n",
    "        if matrix[i][i] != 0:\n",
    "            return False\n",
    "    \n",
    "    return True\n",
    "\n",
    "# Check if the adjacency matrix represents a simple graph\n",
    "is_simple = is_simple_graph(adjacency_matrix)\n",
    "is_simple"
   ]
  },
  {
   "cell_type": "code",
   "execution_count": 8,
   "metadata": {},
   "outputs": [
    {
     "data": {
      "text/plain": [
       "True"
      ]
     },
     "execution_count": 8,
     "metadata": {},
     "output_type": "execute_result"
    }
   ],
   "source": [
    "is_undirected = is_simple_graph(adjacency_matrix)\n",
    "is_undirected"
   ]
  },
  {
   "cell_type": "code",
   "execution_count": 9,
   "metadata": {},
   "outputs": [
    {
     "name": "stdout",
     "output_type": "stream",
     "text": [
      "Is symmetric: True\n",
      "Has zero diagonal: True\n"
     ]
    }
   ],
   "source": [
    "#2.  Can the adjacency matrix potentially represent an undirected graph?\n",
    "# Yes, the adjacency matrix can potentially represent an undirected graph. If the matrix is symmetric and has zeros on the diagonal, it can represent an undirected graph. This is because in an undirected graph, the edge between nodes i and j is the same as the edge between nodes j and i, and there are no self-loops.\n",
    "import numpy as np\n",
    "\n",
    "def check_symmetry_and_diagonal(matrix):\n",
    "    # Check if the matrix is square\n",
    "    if matrix.shape[0] != matrix.shape[1]:\n",
    "        raise ValueError(\"The adjacency matrix must be square.\")\n",
    "    \n",
    "    is_symmetric = np.all(matrix == matrix.T)\n",
    "    has_zero_diagonal = np.all(np.diag(matrix) == 0)\n",
    "    return is_symmetric, has_zero_diagonal\n",
    "\n",
    "# Example adjacency matrix (square matrix)\n",
    "adjacency_matrix = np.array(adjacency_matrix)\n",
    "\n",
    "# Check the symmetry and diagonal elements of the adjacency matrix\n",
    "is_symmetric, has_zero_diagonal = check_symmetry_and_diagonal(adjacency_matrix)\n",
    "print(f\"Is symmetric: {is_symmetric}\")\n",
    "print(f\"Has zero diagonal: {has_zero_diagonal}\")\n"
   ]
  },
  {
   "cell_type": "code",
   "execution_count": 10,
   "metadata": {},
   "outputs": [
    {
     "name": "stdout",
     "output_type": "stream",
     "text": [
      "Is symmetric: True\n",
      "Has zero diagonal: True\n"
     ]
    }
   ],
   "source": [
    "def check_symmetry_and_diagonal(matrix):\n",
    "    is_symmetric = np.all(matrix == matrix.T)\n",
    "    has_zero_diagonal = np.all(np.diag(matrix) == 0)\n",
    "    return is_symmetric, has_zero_diagonal\n",
    "\n",
    "# Check the symmetry and diagonal elements of the adjacency matrix\n",
    "is_symmetric, has_zero_diagonal = check_symmetry_and_diagonal(adjacency_matrix)\n",
    "print(f\"Is symmetric: {is_symmetric}\")\n",
    "print(f\"Has zero diagonal: {has_zero_diagonal}\")"
   ]
  },
  {
   "cell_type": "code",
   "execution_count": null,
   "metadata": {},
   "outputs": [],
   "source": [
    "#Check if the graph is connected"
   ]
  },
  {
   "cell_type": "code",
   "execution_count": 11,
   "metadata": {},
   "outputs": [
    {
     "data": {
      "text/plain": [
       "True"
      ]
     },
     "execution_count": 11,
     "metadata": {},
     "output_type": "execute_result"
    }
   ],
   "source": [
    "def is_connected(matrix):\n",
    "    visited = [False] * len(matrix)\n",
    "    \n",
    "    def dfs(node):\n",
    "        visited[node] = True\n",
    "        for neighbor, is_connected in enumerate(matrix[node]):\n",
    "            if is_connected and not visited[neighbor]:\n",
    "                dfs(neighbor)\n",
    "    \n",
    "    # Start DFS from the first node\n",
    "    dfs(0)\n",
    "    \n",
    "    # Check if all nodes are visited\n",
    "    return all(visited)\n",
    "\n",
    "# Check if the graph is connected\n",
    "is_graph_connected = is_connected(adjacency_matrix)\n",
    "is_graph_connected"
   ]
  },
  {
   "cell_type": "code",
   "execution_count": null,
   "metadata": {},
   "outputs": [],
   "source": []
  },
  {
   "cell_type": "code",
   "execution_count": 12,
   "metadata": {},
   "outputs": [
    {
     "data": {
      "text/plain": [
       "4"
      ]
     },
     "execution_count": 12,
     "metadata": {},
     "output_type": "execute_result"
    }
   ],
   "source": [
    "def find_min_l(matrix):\n",
    "    l = 1\n",
    "    current_matrix = np.linalg.matrix_power(matrix, l)\n",
    "    \n",
    "    while np.any(current_matrix == 0):\n",
    "        l += 1\n",
    "        current_matrix = np.linalg.matrix_power(matrix, l)\n",
    "    \n",
    "    return l\n",
    "\n",
    "# Find the minimum l for the adjacency matrix\n",
    "min_l = find_min_l(adjacency_matrix)\n",
    "min_l"
   ]
  },
  {
   "cell_type": "code",
   "execution_count": 13,
   "metadata": {},
   "outputs": [
    {
     "data": {
      "text/plain": [
       "1"
      ]
     },
     "execution_count": 13,
     "metadata": {},
     "output_type": "execute_result"
    }
   ],
   "source": [
    "def count_connected_components(matrix):\n",
    "    visited = [False] * len(matrix)\n",
    "    count = 0\n",
    "    \n",
    "    def dfs(node):\n",
    "        visited[node] = True\n",
    "        for neighbor, is_connected in enumerate(matrix[node]):\n",
    "            if is_connected and not visited[neighbor]:\n",
    "                dfs(neighbor)\n",
    "    \n",
    "    for node in range(len(matrix)):\n",
    "        if not visited[node]:\n",
    "            dfs(node)\n",
    "            count += 1\n",
    "    \n",
    "    return count\n",
    "\n",
    "# Count the number of connected components in the adjacency matrix\n",
    "num_connected_components = count_connected_components(adjacency_matrix)\n",
    "num_connected_components"
   ]
  },
  {
   "cell_type": "code",
   "execution_count": null,
   "metadata": {},
   "outputs": [
    {
     "data": {
      "text/plain": [
       "np.int64(5)"
      ]
     },
     "execution_count": 14,
     "metadata": {},
     "output_type": "execute_result"
    }
   ],
   "source": [
    "def max_degree(matrix):\n",
    "    degrees = np.sum(matrix, axis=1)\n",
    "    \"\"\"\n",
    "    Calculate the maximum degree of a node in the graph.\n",
    "\n",
    "    Parameters:\n",
    "    matrix (list of list of int): The adjacency matrix of the graph.\n",
    "\n",
    "    Returns:\n",
    "    int: The maximum degree of a node in the graph.\n",
    "    \"\"\"\n",
    "    return np.max(degrees)\n",
    "\n",
    "# Find the maximum degree of a node in the adjacency matrix\n",
    "max_node_degree = max_degree(adjacency_matrix)\n",
    "max_node_degree"
   ]
  },
  {
   "cell_type": "code",
   "execution_count": 15,
   "metadata": {},
   "outputs": [
    {
     "data": {
      "text/plain": [
       "np.int64(46)"
      ]
     },
     "execution_count": 15,
     "metadata": {},
     "output_type": "execute_result"
    }
   ],
   "source": [
    "# Compute the 5th power of the adjacency matrix\n",
    "adjacency_matrix_power_5 = np.linalg.matrix_power(adjacency_matrix, 5)\n",
    "\n",
    "# Number of walks of length 5 from node 0 to itself\n",
    "walks_length_5 = adjacency_matrix_power_5[0, 0]\n",
    "walks_length_5"
   ]
  },
  {
   "cell_type": "code",
   "execution_count": null,
   "metadata": {},
   "outputs": [],
   "source": []
  },
  {
   "cell_type": "code",
   "execution_count": 16,
   "metadata": {},
   "outputs": [
    {
     "ename": "SyntaxError",
     "evalue": "invalid syntax (3171364245.py, line 1)",
     "output_type": "error",
     "traceback": [
      "\u001b[1;36m  Cell \u001b[1;32mIn[16], line 1\u001b[1;36m\u001b[0m\n\u001b[1;33m    The statement is True. For an undirected graph that is not weighted or a multigraph, the diagonal entries of \\( A^2 \\) (where \\( A \\) is the adjacency matrix) are equal to the degree of the nodes. This is because the diagonal entry \\( (i, i) \\) in \\( A^2 \\) represents the number of 2-walks from node \\( i \\) to itself, which is equal to the degree of node \\( i \\) in an undirected graph without self-loops or multiple edges.\u001b[0m\n\u001b[1;37m        ^\u001b[0m\n\u001b[1;31mSyntaxError\u001b[0m\u001b[1;31m:\u001b[0m invalid syntax\n"
     ]
    }
   ],
   "source": [
    "The statement is True. For an undirected graph that is not weighted or a multigraph, the diagonal entries of \\( A^2 \\) (where \\( A \\) is the adjacency matrix) are equal to the degree of the nodes. This is because the diagonal entry \\( (i, i) \\) in \\( A^2 \\) represents the number of 2-walks from node \\( i \\) to itself, which is equal to the degree of node \\( i \\) in an undirected graph without self-loops or multiple edges."
   ]
  },
  {
   "cell_type": "code",
   "execution_count": null,
   "metadata": {},
   "outputs": [],
   "source": [
    "#add two numbers    \n",
    "def add_two_numbers(a, b):\n",
    "    \"\"\"\n",
    "    Add two numbers together.\n",
    "\n",
    "    Parameters:\n",
    "    a (int or float): The first number.\n",
    "    b (int or float): The second number.\n",
    "\n",
    "    Returns:\n",
    "    int or float: The sum of the two numbers.\n",
    "    \"\"\"\n",
    "    return a + b"
   ]
  },
  {
   "cell_type": "code",
   "execution_count": 4,
   "metadata": {},
   "outputs": [
    {
     "name": "stdout",
     "output_type": "stream",
     "text": [
      "Defaulting to user installation because normal site-packages is not writeable\n",
      "Collecting pytest\n",
      "  Downloading pytest-8.3.5-py3-none-any.whl.metadata (7.6 kB)\n",
      "Requirement already satisfied: colorama in c:\\users\\sivakumar.r\\appdata\\roaming\\python\\python311\\site-packages (from pytest) (0.4.6)\n",
      "Collecting iniconfig (from pytest)\n",
      "  Downloading iniconfig-2.0.0-py3-none-any.whl.metadata (2.6 kB)\n",
      "Requirement already satisfied: packaging in c:\\users\\sivakumar.r\\appdata\\roaming\\python\\python311\\site-packages (from pytest) (24.1)\n",
      "Collecting pluggy<2,>=1.5 (from pytest)\n",
      "  Downloading pluggy-1.5.0-py3-none-any.whl.metadata (4.8 kB)\n",
      "Downloading pytest-8.3.5-py3-none-any.whl (343 kB)\n",
      "Downloading pluggy-1.5.0-py3-none-any.whl (20 kB)\n",
      "Downloading iniconfig-2.0.0-py3-none-any.whl (5.9 kB)\n",
      "Installing collected packages: pluggy, iniconfig, pytest\n",
      "Successfully installed iniconfig-2.0.0 pluggy-1.5.0 pytest-8.3.5\n",
      "Note: you may need to restart the kernel to use updated packages.\n"
     ]
    },
    {
     "name": "stderr",
     "output_type": "stream",
     "text": [
      "\n",
      "[notice] A new release of pip is available: 24.3.1 -> 25.0.1\n",
      "[notice] To update, run: python.exe -m pip install --upgrade pip\n"
     ]
    }
   ],
   "source": [
    "pip install pytest"
   ]
  },
  {
   "cell_type": "code",
   "execution_count": null,
   "metadata": {},
   "outputs": [
    {
     "ename": "SyntaxError",
     "evalue": "invalid syntax (1381874724.py, line 2)",
     "output_type": "error",
     "traceback": [
      "\u001b[1;36m  Cell \u001b[1;32mIn[10], line 2\u001b[1;36m\u001b[0m\n\u001b[1;33m    ensure that the function returns the correct maximum degree of a node in the graph.\u001b[0m\n\u001b[1;37m           ^\u001b[0m\n\u001b[1;31mSyntaxError\u001b[0m\u001b[1;31m:\u001b[0m invalid syntax\n"
     ]
    }
   ],
   "source": [
    "#write a unit test using pytest for funtion max_degree\n",
    "ensure that the function returns the correct maximum degree of a node in the graph.\n",
    "uses pytest framework\n",
    "from graph_utils import max_degree\n",
    "import pytest  "
   ]
  },
  {
   "cell_type": "code",
   "execution_count": 11,
   "metadata": {},
   "outputs": [
    {
     "name": "stdout",
     "output_type": "stream",
     "text": [
      "\u001b[1m============================= test session starts =============================\u001b[0m\n",
      "platform win32 -- Python 3.11.2, pytest-8.3.5, pluggy-1.5.0 -- c:\\Program Files\\Python311\\python.exe\n",
      "cachedir: .pytest_cache\n",
      "rootdir: c:\\Users\\Sivakumar.R\\OneDrive - Shell\\L & D\\2025\\DA\\EDA\n",
      "plugins: anyio-4.4.0, Faker-36.1.1, typeguard-4.4.0\n",
      "\u001b[1mcollecting ... \u001b[0mcollected 0 items\n",
      "\n",
      "\u001b[33m============================ \u001b[33mno tests ran\u001b[0m\u001b[33m in 0.04s\u001b[0m\u001b[33m ============================\u001b[0m\n"
     ]
    },
    {
     "data": {
      "text/plain": [
       "<ExitCode.NO_TESTS_COLLECTED: 5>"
      ]
     },
     "execution_count": 11,
     "metadata": {},
     "output_type": "execute_result"
    }
   ],
   "source": [
    "import pytest\n",
    "\n",
    "def test_max_degree():\n",
    "    matrix = [\n",
    "        [0, 1, 0, 1, 0],\n",
    "        [1, 0, 1, 1, 1],\n",
    "        [0, 1, 0, 0, 0],\n",
    "        [1, 1, 0, 0, 1],\n",
    "        [0, 1, 0, 1, 0]\n",
    "    ]\n",
    "    expected_max_degree = 4\n",
    "    assert max_degree(matrix) == expected_max_degree\n",
    "\n",
    "# Run the test\n",
    "pytest.main([\"-v\", \"-s\"])"
   ]
  },
  {
   "cell_type": "code",
   "execution_count": null,
   "metadata": {},
   "outputs": [],
   "source": []
  }
 ],
 "metadata": {
  "kernelspec": {
   "display_name": "Python 3",
   "language": "python",
   "name": "python3"
  },
  "language_info": {
   "codemirror_mode": {
    "name": "ipython",
    "version": 3
   },
   "file_extension": ".py",
   "mimetype": "text/x-python",
   "name": "python",
   "nbconvert_exporter": "python",
   "pygments_lexer": "ipython3",
   "version": "3.11.2"
  }
 },
 "nbformat": 4,
 "nbformat_minor": 2
}
