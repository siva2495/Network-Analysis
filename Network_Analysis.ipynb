{
 "cells": [
  {
   "cell_type": "code",
   "execution_count": 1,
   "metadata": {},
   "outputs": [],
   "source": [
    "import numpy as np"
   ]
  },
  {
   "cell_type": "code",
   "execution_count": 2,
   "metadata": {},
   "outputs": [],
   "source": [
    "adjacency_matrix = [\n",
    "    [0, 1, 0, 1, 0, 1, 0, 0, 0, 0],\n",
    "    [1, 0, 1, 1, 1, 0, 0, 0, 0, 0],\n",
    "    [0, 1, 0, 0, 0, 0, 0, 0, 0, 0],\n",
    "    [1, 1, 0, 0, 0, 1, 0, 1, 1, 0],\n",
    "    [0, 1, 0, 0, 0, 0, 0, 0, 1, 1],\n",
    "    [1, 0, 0, 1, 0, 0, 0, 0, 0, 0],\n",
    "    [0, 0, 0, 0, 0, 0, 0, 0, 0, 1],\n",
    "    [0, 0, 0, 1, 0, 0, 0, 0, 0, 0],\n",
    "    [0, 0, 0, 1, 1, 0, 0, 0, 0, 1],\n",
    "    [0, 0, 0, 0, 1, 0, 1, 0, 1, 0]]"
   ]
  },
  {
   "cell_type": "code",
   "execution_count": 3,
   "metadata": {},
   "outputs": [
    {
     "data": {
      "text/plain": [
       "False"
      ]
     },
     "execution_count": 3,
     "metadata": {},
     "output_type": "execute_result"
    }
   ],
   "source": [
    "def has_multiple_edges_and_no_self_loops(matrix):\n",
    "    # Check if there are no self-loops\n",
    "    if not np.all(np.diag(matrix) == 0):\n",
    "        return False\n",
    "    \n",
    "    # Check if there are multiple edges between any two nodes\n",
    "    for i in range(len(matrix)):\n",
    "        \"\"\"\n",
    "        Check if there are multiple edges between any two nodes.\n",
    "\n",
    "        Parameters:\n",
    "        matrix (list of list of int): The adjacency matrix of the graph.\n",
    "\n",
    "        Returns:\n",
    "        bool: True if there are multiple edges between any two nodes, False otherwise.\n",
    "        \"\"\"\n",
    "        for j in range(len(matrix)):\n",
    "            if matrix[i][j] > 1:\n",
    "                return True\n",
    "    \n",
    "    return False\n",
    "\n",
    "# Check the condition for the adjacency matrix\n",
    "has_multiple_edges = has_multiple_edges_and_no_self_loops(adjacency_matrix)\n",
    "has_multiple_edges"
   ]
  },
  {
   "cell_type": "code",
   "execution_count": 4,
   "metadata": {},
   "outputs": [
    {
     "data": {
      "text/plain": [
       "False"
      ]
     },
     "execution_count": 4,
     "metadata": {},
     "output_type": "execute_result"
    }
   ],
   "source": [
    "# Check if there are any self-loops\n",
    "\"\"\"\n",
    "Check if the graph has any self-loops.\n",
    "\n",
    "Returns:\n",
    "bool: True if the graph has self-loops, False otherwise.\n",
    "\"\"\"\n",
    "has_self_loops = not np.all(np.diag(adjacency_matrix) == 0)\n",
    "has_self_loops"
   ]
  },
  {
   "cell_type": "code",
   "execution_count": 5,
   "metadata": {},
   "outputs": [
    {
     "name": "stdout",
     "output_type": "stream",
     "text": [
      "The graph does not have self-loops.\n"
     ]
    }
   ],
   "source": [
    "\"\"\"\n",
    "Check if the graph has self-loops and print the appropriate message.\n",
    "\n",
    "Parameters:\n",
    "has_self_loops (bool): True if the graph has self-loops, False otherwise.\n",
    "\"\"\"\n",
    "\n",
    "if has_self_loops:\n",
    "    print(\"The graph has self-loops.\")\n",
    "else:\n",
    "    print(\"The graph does not have self-loops.\")"
   ]
  },
  {
   "cell_type": "code",
   "execution_count": 6,
   "metadata": {},
   "outputs": [
    {
     "name": "stdout",
     "output_type": "stream",
     "text": [
      "The graph is a simple graph.\n"
     ]
    }
   ],
   "source": [
    "if not has_multiple_edges_and_no_self_loops(adjacency_matrix):\n",
    "    print(\"The graph is a simple graph.\")\n",
    "else:\n",
    "    \"\"\"\n",
    "    Check if the graph has multiple edges or self-loops and print the appropriate message.\n",
    "\n",
    "    Parameters:\n",
    "    has_multiple_edges_and_no_self_loops (bool): True if the graph has multiple edges or self-loops, False otherwise.\n",
    "    \"\"\"\n",
    "    print(\"The graph has multiple edges between some nodes or self-loops.\")"
   ]
  },
  {
   "cell_type": "code",
   "execution_count": 7,
   "metadata": {},
   "outputs": [
    {
     "data": {
      "text/plain": [
       "True"
      ]
     },
     "execution_count": 7,
     "metadata": {},
     "output_type": "execute_result"
    }
   ],
   "source": [
    "def is_simple_graph(matrix):\n",
    "    # Check if the matrix is symmetric\n",
    "    \"\"\"\n",
    "    Check if the graph is undirected by verifying the symmetry of the adjacency matrix.\n",
    "\n",
    "    Parameters:\n",
    "    matrix (list of list of int): The adjacency matrix of the graph.\n",
    "\n",
    "    Returns:\n",
    "    bool: True if the graph is undirected, False otherwise.\n",
    "    \"\"\"\n",
    "    for i in range(len(matrix)):\n",
    "        for j in range(len(matrix)):\n",
    "            if matrix[i][j] != matrix[j][i]:\n",
    "                return False\n",
    "    \n",
    "    # Check if the diagonal elements are zero\n",
    "    \"\"\"\n",
    "    Check if the graph has no self-loops.\n",
    "\n",
    "    Parameters:\n",
    "    matrix (list of list of int): The adjacency matrix of the graph.\n",
    "\n",
    "    Returns:\n",
    "    bool: True if the graph has no self-loops, False otherwise.\n",
    "    \"\"\"\n",
    "    for i in range(len(matrix)):\n",
    "        if matrix[i][i] != 0:\n",
    "            return False\n",
    "    \n",
    "    return True\n",
    "\n",
    "# Check if the adjacency matrix represents a simple graph\n",
    "is_simple = is_simple_graph(adjacency_matrix)\n",
    "is_simple"
   ]
  },
  {
   "cell_type": "code",
   "execution_count": 8,
   "metadata": {},
   "outputs": [
    {
     "data": {
      "text/plain": [
       "True"
      ]
     },
     "execution_count": 8,
     "metadata": {},
     "output_type": "execute_result"
    }
   ],
   "source": [
    "is_undirected = is_simple_graph(adjacency_matrix)\n",
    "is_undirected"
   ]
  },
  {
   "cell_type": "code",
   "execution_count": 9,
   "metadata": {},
   "outputs": [
    {
     "name": "stdout",
     "output_type": "stream",
     "text": [
      "Is symmetric: True\n",
      "Has zero diagonal: True\n"
     ]
    }
   ],
   "source": [
    "#2.  Can the adjacency matrix potentially represent an undirected graph?\n",
    "# Yes, the adjacency matrix can potentially represent an undirected graph. If the matrix is symmetric and has zeros on the diagonal, it can represent an undirected graph. This is because in an undirected graph, the edge between nodes i and j is the same as the edge between nodes j and i, and there are no self-loops.\n",
    "import numpy as np\n",
    "\n",
    "def check_symmetry_and_diagonal(matrix):\n",
    "    \"\"\"\n",
    "    Check if the adjacency matrix is symmetric and has zeros on the diagonal.\n",
    "\n",
    "    Parameters:\n",
    "    matrix (numpy.ndarray): The adjacency matrix of the graph.\n",
    "\n",
    "    Returns:\n",
    "    tuple: A tuple containing two boolean values:\n",
    "        - is_symmetric (bool): True if the matrix is symmetric, False otherwise.\n",
    "        - has_zero_diagonal (bool): True if the matrix has zeros on the diagonal, False otherwise.\n",
    "    \n",
    "    Raises:\n",
    "    ValueError: If the adjacency matrix is not square.\n",
    "    \"\"\"\n",
    "    # Check if the matrix is square\n",
    "    if matrix.shape[0] != matrix.shape[1]:\n",
    "        raise ValueError(\"The adjacency matrix must be square.\")\n",
    "    \n",
    "    is_symmetric = np.all(matrix == matrix.T)\n",
    "    has_zero_diagonal = np.all(np.diag(matrix) == 0)\n",
    "    return is_symmetric, has_zero_diagonal\n",
    "\n",
    "# Example adjacency matrix (square matrix)\n",
    "adjacency_matrix = np.array(adjacency_matrix)\n",
    "\n",
    "# Check the symmetry and diagonal elements of the adjacency matrix\n",
    "is_symmetric, has_zero_diagonal = check_symmetry_and_diagonal(adjacency_matrix)\n",
    "print(f\"Is symmetric: {is_symmetric}\")\n",
    "print(f\"Has zero diagonal: {has_zero_diagonal}\")\n"
   ]
  },
  {
   "cell_type": "code",
   "execution_count": 10,
   "metadata": {},
   "outputs": [
    {
     "name": "stdout",
     "output_type": "stream",
     "text": [
      "Is symmetric: True\n",
      "Has zero diagonal: True\n"
     ]
    }
   ],
   "source": [
    "def check_symmetry_and_diagonal(matrix):\n",
    "    is_symmetric = np.all(matrix == matrix.T)\n",
    "    \"\"\"\n",
    "    Check if the adjacency matrix has zeros on the diagonal.\n",
    "\n",
    "    Parameters:\n",
    "    matrix (numpy.ndarray): The adjacency matrix of the graph.\n",
    "\n",
    "    Returns:\n",
    "    bool: True if the matrix has zeros on the diagonal, False otherwise.\n",
    "    \"\"\"\n",
    "    has_zero_diagonal = np.all(np.diag(matrix) == 0)\n",
    "    return is_symmetric, has_zero_diagonal\n",
    "\n",
    "# Check the symmetry and diagonal elements of the adjacency matrix\n",
    "is_symmetric, has_zero_diagonal = check_symmetry_and_diagonal(adjacency_matrix)\n",
    "print(f\"Is symmetric: {is_symmetric}\")\n",
    "print(f\"Has zero diagonal: {has_zero_diagonal}\")"
   ]
  },
  {
   "cell_type": "code",
   "execution_count": 11,
   "metadata": {},
   "outputs": [],
   "source": [
    "#Check if the graph is connected"
   ]
  },
  {
   "cell_type": "code",
   "execution_count": 12,
   "metadata": {},
   "outputs": [
    {
     "data": {
      "text/plain": [
       "True"
      ]
     },
     "execution_count": 12,
     "metadata": {},
     "output_type": "execute_result"
    }
   ],
   "source": [
    "def is_connected(matrix):\n",
    "    \"\"\"\n",
    "    Check if the graph is connected using Depth-First Search (DFS).\n",
    "\n",
    "    Parameters:\n",
    "    matrix (list of list of int): The adjacency matrix of the graph.\n",
    "\n",
    "    Returns:\n",
    "    bool: True if the graph is connected, False otherwise.\n",
    "    \"\"\"\n",
    "    visited = [False] * len(matrix)\n",
    "    \n",
    "    def dfs(node):\n",
    "        visited[node] = True\n",
    "        for neighbor, is_connected in enumerate(matrix[node]):\n",
    "            if is_connected and not visited[neighbor]:\n",
    "                dfs(neighbor)\n",
    "    \n",
    "    # Start DFS from the first node\n",
    "    \"\"\"\n",
    "    Perform DFS starting from the first node (node 0).\n",
    "\n",
    "    Parameters:\n",
    "    node (int): The starting node for DFS.\n",
    "    \"\"\"\n",
    "    dfs(0)\n",
    "    \n",
    "    # Check if all nodes are visited\n",
    "    \"\"\"\n",
    "    Check if all nodes have been visited after performing DFS.\n",
    "\n",
    "    Returns:\n",
    "    bool: True if all nodes are visited, False otherwise.\n",
    "    \"\"\"\n",
    "    return all(visited)\n",
    "\n",
    "# Check if the graph is connected\n",
    "\"\"\"\n",
    "Check if the graph is connected.\n",
    "\n",
    "Returns:\n",
    "bool: True if the graph is connected, False otherwise.\n",
    "\"\"\"\n",
    "is_graph_connected = is_connected(adjacency_matrix)\n",
    "is_graph_connected"
   ]
  },
  {
   "cell_type": "code",
   "execution_count": 13,
   "metadata": {},
   "outputs": [
    {
     "data": {
      "text/plain": [
       "4"
      ]
     },
     "execution_count": 13,
     "metadata": {},
     "output_type": "execute_result"
    }
   ],
   "source": [
    "def find_min_l(matrix):\n",
    "    \"\"\"\n",
    "    Find the minimum l such that all entries in the l-th power of the adjacency matrix are non-zero.\n",
    "\n",
    "    Parameters:\n",
    "    matrix (numpy.ndarray): The adjacency matrix of the graph.\n",
    "\n",
    "    Returns:\n",
    "    int: The minimum l for which all entries in the l-th power of the adjacency matrix are non-zero.\n",
    "    \"\"\"\n",
    "    l = 1\n",
    "    current_matrix = np.linalg.matrix_power(matrix, l)\n",
    "    \n",
    "    while np.any(current_matrix == 0):\n",
    "        l += 1\n",
    "        current_matrix = np.linalg.matrix_power(matrix, l)\n",
    "    \n",
    "    return l\n",
    "\n",
    "# Find the minimum l for the adjacency matrix\n",
    "\"\"\"\n",
    "Find the minimum l for which all entries in the l-th power of the adjacency matrix are non-zero.\n",
    "\n",
    "Returns:\n",
    "int: The minimum l for which all entries in the l-th power of the adjacency matrix are non-zero.\n",
    "\"\"\"\n",
    "min_l = find_min_l(adjacency_matrix)\n",
    "min_l"
   ]
  },
  {
   "cell_type": "code",
   "execution_count": 14,
   "metadata": {},
   "outputs": [
    {
     "data": {
      "text/plain": [
       "10"
      ]
     },
     "execution_count": 14,
     "metadata": {},
     "output_type": "execute_result"
    }
   ],
   "source": [
    "def count_connected_components(matrix):\n",
    "    \"\"\"\n",
    "    Count the number of connected components in the graph using Depth-First Search (DFS).\n",
    "\n",
    "    Parameters:\n",
    "    matrix (list of list of int): The adjacency matrix of the graph.\n",
    "\n",
    "    Returns:\n",
    "    int: The number of connected components in the graph.\n",
    "    \"\"\"\n",
    "    visited = [False] * len(matrix)\n",
    "    count = 0\n",
    "    \n",
    "    def dfs(node):\n",
    "        \"\"\"\n",
    "        Perform DFS starting from the given node.\n",
    "\n",
    "        Parameters:\n",
    "        node (int): The starting node for DFS.\n",
    "        \"\"\"\n",
    "        visited[node] = True\n",
    "        for neighbor, is_connected in enumerate(matrix[node]):\n",
    "            if is_connected and not visited[neighbor]:\n",
    "                dfs(neighbor)\n",
    "    \n",
    "    for node in range(len(matrix)):\n",
    "        \"\"\"\n",
    "        Check each node to see if it has been visited. If not, perform DFS and increment the count of connected components.\n",
    "\n",
    "        Parameters:\n",
    "        node (int): The current node being checked.\n",
    "        \"\"\"\n",
    "        if  not visited[node]:\n",
    "           dfs(node)\n",
    "        count += 1\n",
    "    \n",
    "    return count\n",
    "\n",
    "# Count the number of connected components in the adjacency matrix\n",
    "\"\"\"\n",
    "Count the number of connected components in the adjacency matrix.\n",
    "\n",
    "Returns:\n",
    "int: The number of connected components in the graph.\n",
    "\"\"\"\n",
    "num_connected_components = count_connected_components(adjacency_matrix)\n",
    "num_connected_components"
   ]
  },
  {
   "cell_type": "code",
   "execution_count": 15,
   "metadata": {},
   "outputs": [
    {
     "data": {
      "text/plain": [
       "np.int64(5)"
      ]
     },
     "execution_count": 15,
     "metadata": {},
     "output_type": "execute_result"
    }
   ],
   "source": [
    "def max_degree(matrix):\n",
    "    degrees = np.sum(matrix, axis=1)\n",
    "    \"\"\"\n",
    "    Calculate the maximum degree of a node in the graph.\n",
    "\n",
    "    Parameters:\n",
    "    matrix (list of list of int): The adjacency matrix of the graph.\n",
    "\n",
    "    Returns:\n",
    "    int: The maximum degree of a node in the graph.\n",
    "    \"\"\"\n",
    "    return np.max(degrees)\n",
    "\n",
    "# Find the maximum degree of a node in the adjacency matrix\n",
    "max_node_degree = max_degree(adjacency_matrix)\n",
    "max_node_degree"
   ]
  },
  {
   "cell_type": "code",
   "execution_count": 16,
   "metadata": {},
   "outputs": [
    {
     "data": {
      "text/plain": [
       "np.int64(46)"
      ]
     },
     "execution_count": 16,
     "metadata": {},
     "output_type": "execute_result"
    }
   ],
   "source": [
    "# Compute the 5th power of the adjacency matrix\n",
    "adjacency_matrix_power_5 = np.linalg.matrix_power(adjacency_matrix, 5)\n",
    "\"\"\"\n",
    "Compute the 5th power of the adjacency matrix.\n",
    "\n",
    "Parameters:\n",
    "matrix (numpy.ndarray): The adjacency matrix of the graph.\n",
    "\n",
    "Returns:\n",
    "numpy.ndarray: The 5th power of the adjacency matrix.\n",
    "\"\"\"\n",
    "\n",
    "# Number of walks of length 5 from node 0 to itself\n",
    "walks_length_5 = adjacency_matrix_power_5[0, 0]\n",
    "\"\"\"\n",
    "Compute the number of walks of length 5 from node 0 to itself.\n",
    "\n",
    "Parameters:\n",
    "adjacency_matrix_power_5 (numpy.ndarray): The 5th power of the adjacency matrix.\n",
    "\n",
    "Returns:\n",
    "int: The number of walks of length 5 from node 0 to itself.\n",
    "\"\"\"\n",
    "walks_length_5"
   ]
  },
  {
   "cell_type": "code",
   "execution_count": 17,
   "metadata": {},
   "outputs": [],
   "source": [
    "import numpy as np\n",
    "#calculate adjacency matrix squared\n",
    "adjacency_matrix_squared = np.linalg.matrix_power(adjacency_matrix, 2)"
   ]
  },
  {
   "cell_type": "code",
   "execution_count": 18,
   "metadata": {},
   "outputs": [
    {
     "name": "stdout",
     "output_type": "stream",
     "text": [
      "[[3 1 1 2 1 1 0 1 1 0]\n",
      " [1 4 0 1 0 2 0 1 2 1]\n",
      " [1 0 1 1 1 0 0 0 0 0]\n",
      " [2 1 1 5 2 1 0 0 0 1]\n",
      " [1 0 1 2 3 0 1 0 1 1]\n",
      " [1 2 0 1 0 2 0 1 1 0]\n",
      " [0 0 0 0 1 0 1 0 1 0]\n",
      " [1 1 0 0 0 1 0 1 1 0]\n",
      " [1 2 0 0 1 1 1 1 3 1]\n",
      " [0 1 0 1 1 0 0 0 1 3]]\n"
     ]
    }
   ],
   "source": [
    "print(adjacency_matrix_squared)"
   ]
  },
  {
   "cell_type": "code",
   "execution_count": 19,
   "metadata": {},
   "outputs": [
    {
     "data": {
      "text/plain": [
       "np.int64(26)"
      ]
     },
     "execution_count": 19,
     "metadata": {},
     "output_type": "execute_result"
    }
   ],
   "source": [
    "np.trace(adjacency_matrix_squared)"
   ]
  },
  {
   "cell_type": "code",
   "execution_count": 24,
   "metadata": {},
   "outputs": [],
   "source": [
    "#family tree\n",
    "#Consider the family tree of a family of people. Assume that the edges are directed and an edge represents a biological  parent, child relationship. Also, assume that the graph has a finite number of nodes and edges (so that one or both of the parents of some nodes are not represented in this tree). \n",
    "#The adjacency matrix of this graph will be a square matrix where the rows and columns represent the individuals in the family tree. The value of the element at row i and column j will be 1 if there is a biological relationship from individual i to individual j, and 0 otherwise. The adjacency matrix will be a binary matrix with 1s representing the presence of an edge and 0s representing the absence of an edge.\n",
    "family_tree_adjacency_matrix = [[0, 1, 1, 0, 0, 0],\n",
    " [0, 0, 0, 1, 1, 0],\n",
    " [0, 0, 0, 0, 0, 1],\n",
    " [0, 0, 0, 0, 0, 0],\n",
    " [0, 0, 0, 0, 0, 0],\n",
    " [0, 0, 0, 0, 0, 0]]                     "
   ]
  },
  {
   "cell_type": "code",
   "execution_count": 29,
   "metadata": {},
   "outputs": [
    {
     "data": {
      "text/plain": [
       "np.int64(0)"
      ]
     },
     "execution_count": 29,
     "metadata": {},
     "output_type": "execute_result"
    }
   ],
   "source": [
    "def min_in_degree(matrix):\n",
    "    in_degrees = np.sum(matrix, axis=1)\n",
    "    return np.min(in_degrees)\n",
    "\n",
    "# Find the minimum in-degree of a node in the adjacency matrix\n",
    "min_node_in_degree = min_in_degree(family_tree_adjacency_matrix)\n",
    "min_node_in_degree"
   ]
  },
  {
   "cell_type": "code",
   "execution_count": 30,
   "metadata": {},
   "outputs": [
    {
     "data": {
      "text/plain": [
       "np.int64(2)"
      ]
     },
     "execution_count": 30,
     "metadata": {},
     "output_type": "execute_result"
    }
   ],
   "source": [
    "def max_in_degree(matrix):\n",
    "    in_degrees = np.sum(matrix, axis=1)\n",
    "    return np.max(in_degrees)\n",
    "\n",
    "# Find the minimum in-degree of a node in the adjacency matrix\n",
    "min_node_in_degree = max_in_degree(family_tree_adjacency_matrix)\n",
    "min_node_in_degree"
   ]
  },
  {
   "cell_type": "code",
   "execution_count": 31,
   "metadata": {},
   "outputs": [
    {
     "data": {
      "text/plain": [
       "False"
      ]
     },
     "execution_count": 31,
     "metadata": {},
     "output_type": "execute_result"
    }
   ],
   "source": [
    "# Check if there are any self-loops\n",
    "\"\"\"\n",
    "Check if the graph has any self-loops.\n",
    "\n",
    "Returns:\n",
    "bool: True if the graph has self-loops, False otherwise.\n",
    "\"\"\"\n",
    "has_self_loops = not np.all(np.diag(family_tree_adjacency_matrix) == 0)\n",
    "has_self_loops"
   ]
  },
  {
   "cell_type": "code",
   "execution_count": 32,
   "metadata": {},
   "outputs": [
    {
     "name": "stdout",
     "output_type": "stream",
     "text": [
      "The graph does not have self-loops.\n"
     ]
    }
   ],
   "source": [
    "\"\"\"\n",
    "Check if the graph has self-loops and print the appropriate message.\n",
    "\n",
    "Parameters:\n",
    "has_self_loops (bool): True if the graph has self-loops, False otherwise.\n",
    "\"\"\"\n",
    "\n",
    "if has_self_loops:\n",
    "    print(\"The graph has self-loops.\")\n",
    "else:\n",
    "    print(\"The graph does not have self-loops.\")"
   ]
  },
  {
   "cell_type": "code",
   "execution_count": 34,
   "metadata": {},
   "outputs": [],
   "source": [
    "#read text file\n",
    "from fileinput import filename\n",
    "import pandas as pd\n",
    "import numpy as np\n",
    "file = pd.read_csv('release_directed_graph.txt', sep=\" \", header=None)"
   ]
  },
  {
   "cell_type": "code",
   "execution_count": 35,
   "metadata": {},
   "outputs": [
    {
     "data": {
      "text/html": [
       "<div>\n",
       "<style scoped>\n",
       "    .dataframe tbody tr th:only-of-type {\n",
       "        vertical-align: middle;\n",
       "    }\n",
       "\n",
       "    .dataframe tbody tr th {\n",
       "        vertical-align: top;\n",
       "    }\n",
       "\n",
       "    .dataframe thead th {\n",
       "        text-align: right;\n",
       "    }\n",
       "</style>\n",
       "<table border=\"1\" class=\"dataframe\">\n",
       "  <thead>\n",
       "    <tr style=\"text-align: right;\">\n",
       "      <th></th>\n",
       "      <th>0</th>\n",
       "      <th>1</th>\n",
       "    </tr>\n",
       "  </thead>\n",
       "  <tbody>\n",
       "    <tr>\n",
       "      <th>0</th>\n",
       "      <td>0</td>\n",
       "      <td>3</td>\n",
       "    </tr>\n",
       "    <tr>\n",
       "      <th>1</th>\n",
       "      <td>0</td>\n",
       "      <td>10</td>\n",
       "    </tr>\n",
       "    <tr>\n",
       "      <th>2</th>\n",
       "      <td>0</td>\n",
       "      <td>12</td>\n",
       "    </tr>\n",
       "    <tr>\n",
       "      <th>3</th>\n",
       "      <td>0</td>\n",
       "      <td>25</td>\n",
       "    </tr>\n",
       "    <tr>\n",
       "      <th>4</th>\n",
       "      <td>0</td>\n",
       "      <td>39</td>\n",
       "    </tr>\n",
       "  </tbody>\n",
       "</table>\n",
       "</div>"
      ],
      "text/plain": [
       "   0   1\n",
       "0  0   3\n",
       "1  0  10\n",
       "2  0  12\n",
       "3  0  25\n",
       "4  0  39"
      ]
     },
     "execution_count": 35,
     "metadata": {},
     "output_type": "execute_result"
    }
   ],
   "source": [
    "file.head()"
   ]
  },
  {
   "cell_type": "code",
   "execution_count": null,
   "metadata": {},
   "outputs": [],
   "source": [
    "# Determine the number of nodes\n",
    "num_nodes = file.max().max() + 1\n",
    "\n",
    "# Initialize the adjacency matrix with zeros\n",
    "adj_matrix_file = np.zeros((num_nodes, num_nodes), dtype=int)\n",
    "\n",
    "# Populate the adjacency matrix based on the file data\n",
    "for _, row in file.iterrows():\n",
    "    adj_matrix_file[row[0], row[1]] = 1\n",
    "\n",
    "# Display the adjacency matrix\n",
    "adj_matrix_file"
   ]
  },
  {
   "cell_type": "code",
   "execution_count": null,
   "metadata": {},
   "outputs": [],
   "source": [
    "#convert file in to adjacency matrix by considering nodes in file[0] and edges in file[1]"
   ]
  },
  {
   "cell_type": "code",
   "execution_count": null,
   "metadata": {},
   "outputs": [],
   "source": [
    "#Consider The file is in the edge list format with each line “i j\" indicating a directed edge from vertex i to vertex j.\n"
   ]
  },
  {
   "cell_type": "code",
   "execution_count": 46,
   "metadata": {},
   "outputs": [
    {
     "data": {
      "text/plain": [
       "100"
      ]
     },
     "execution_count": 46,
     "metadata": {},
     "output_type": "execute_result"
    }
   ],
   "source": [
    "file[0].nunique()"
   ]
  },
  {
   "cell_type": "code",
   "execution_count": 40,
   "metadata": {},
   "outputs": [
    {
     "data": {
      "text/plain": [
       "1030"
      ]
     },
     "execution_count": 40,
     "metadata": {},
     "output_type": "execute_result"
    }
   ],
   "source": [
    "num_edges = len(file)\n",
    "num_edges"
   ]
  },
  {
   "cell_type": "code",
   "execution_count": 41,
   "metadata": {},
   "outputs": [
    {
     "name": "stdout",
     "output_type": "stream",
     "text": [
      "The graph has 1030 nodes.\n"
     ]
    }
   ],
   "source": [
    "print(f\"The graph has {num_nodes} nodes.\")"
   ]
  },
  {
   "cell_type": "code",
   "execution_count": 42,
   "metadata": {},
   "outputs": [
    {
     "data": {
      "text/plain": [
       "True"
      ]
     },
     "execution_count": 42,
     "metadata": {},
     "output_type": "execute_result"
    }
   ],
   "source": [
    "# Check if the graph contains self-loops based on the file data\n",
    "has_self_loops_file = any(file[0] == file[1])\n",
    "has_self_loops_file"
   ]
  },
  {
   "cell_type": "code",
   "execution_count": 45,
   "metadata": {},
   "outputs": [
    {
     "data": {
      "text/plain": [
       "True"
      ]
     },
     "execution_count": 45,
     "metadata": {},
     "output_type": "execute_result"
    }
   ],
   "source": [
    "from collections import defaultdict, deque\n",
    "\n",
    "def has_directed_cycles(matrix):\n",
    "    \"\"\"\n",
    "    Check if the graph has directed cycles not involving self-loops using Kahn's algorithm for topological sorting.\n",
    "\n",
    "    Parameters:\n",
    "    matrix (numpy.ndarray): The adjacency matrix of the graph.\n",
    "\n",
    "    Returns:\n",
    "    bool: True if the graph has directed cycles not involving self-loops, False otherwise.\n",
    "    \"\"\"\n",
    "    num_nodes = matrix.shape[0]\n",
    "    in_degree = np.sum(matrix, axis=0)\n",
    "    \n",
    "    # Initialize a queue with nodes having zero in-degree\n",
    "    queue = deque([node for node in range(num_nodes) if in_degree[node] == 0])\n",
    "    \n",
    "    count_visited = 0\n",
    "    \n",
    "    while queue:\n",
    "        node = queue.popleft()\n",
    "        count_visited += 1\n",
    "        \n",
    "        for neighbor in range(num_nodes):\n",
    "            if matrix[node][neighbor] == 1:\n",
    "                in_degree[neighbor] -= 1\n",
    "                if in_degree[neighbor] == 0:\n",
    "                    queue.append(neighbor)\n",
    "    \n",
    "    # If count_visited is not equal to num_nodes, there is a cycle\n",
    "    return count_visited != num_nodes\n",
    "\n",
    "# Convert the file data to an adjacency matrix\n",
    "num_nodes = file.max().max() + 1\n",
    "adj_matrix_file = np.zeros((num_nodes, num_nodes), dtype=int)\n",
    "for _, row in file.iterrows():\n",
    "    adj_matrix_file[row[0], row[1]] = 1\n",
    "\n",
    "# Check for directed cycles not involving self-loops\n",
    "has_cycles = has_directed_cycles(adj_matrix_file)\n",
    "has_cycles"
   ]
  },
  {
   "cell_type": "code",
   "execution_count": null,
   "metadata": {},
   "outputs": [],
   "source": []
  }
 ],
 "metadata": {
  "kernelspec": {
   "display_name": "Python 3",
   "language": "python",
   "name": "python3"
  },
  "language_info": {
   "codemirror_mode": {
    "name": "ipython",
    "version": 3
   },
   "file_extension": ".py",
   "mimetype": "text/x-python",
   "name": "python",
   "nbconvert_exporter": "python",
   "pygments_lexer": "ipython3",
   "version": "3.11.2"
  }
 },
 "nbformat": 4,
 "nbformat_minor": 2
}
